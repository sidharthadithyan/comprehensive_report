{
 "cells": [
  {
   "cell_type": "code",
   "execution_count": 12,
   "id": "7fba22e1",
   "metadata": {},
   "outputs": [],
   "source": [
    "import numpy as np\n",
    "\n",
    "import matplotlib.pyplot as plt\n",
    "\n",
    "%matplotlib qt\n",
    "\n",
    "\n",
    "\n",
    "countColor=0\n",
    "\n",
    "fig = plt.figure(figsize=(12, 12))\n",
    "ax = plt.axes(projection='3d')\n",
    "for i in range(5):\n",
    "    for j in range(5):\n",
    "\n",
    "        odorNo=i+1\n",
    "        plumeNo=j+1\n",
    "\n",
    "        lnComToPNRaw=np.load(\"lnComToPNNormalized_\"+str(odorNo)+\"_\"+str(plumeNo)+\".npy\")\n",
    "\n",
    "        plume=np.load(\"data_plume_\"+str(plumeNo)+\".npy\")\n",
    "\n",
    "\n",
    "        lnComToPNStich=np.array([[],[],[]])\n",
    "\n",
    "        for k in range(len(plume)):\n",
    "            if plume[k]>0:\n",
    "                lnComToPNStich=np.append(lnComToPNStich,lnComToPNRaw[:,k].reshape(3,1), axis=1)\n",
    "\n",
    "\n",
    "        lnComToPN=lnComToPNStich\n",
    "\n",
    "        color=[\"#BA0000\", \"#CB2323\", \"#DD4545\", \"#EE6868\", \"#FF8A8A\",\"#BA9800\",\"#CBAA23\",\"#DDBC45\",\"#EECE68\",\"#FFE08A\", \"#03800E\",\"#299C31\",\"#4EB755\", \"#74D378\", \"#99EE9B\", \"#034580\", \"#28699B\", \"#4E8DB7\", \"#73B0D2\", \"#98D4ED\", \"#790380\", \"#95289B\", \"#B24EB7\", \"#CE73D2\", \"#EA98ED\"]\n",
    "\n",
    "        ax.plot(lnComToPN[0,:][::10], lnComToPN[1,:][::10], lnComToPN[2,:][::10],c=color[countColor])\n",
    "        \n",
    "        countColor=countColor+1\n",
    "\n",
    "        fig"
   ]
  },
  {
   "cell_type": "code",
   "execution_count": null,
   "id": "fd6cba9b",
   "metadata": {},
   "outputs": [],
   "source": []
  },
  {
   "cell_type": "code",
   "execution_count": null,
   "id": "17af285f",
   "metadata": {},
   "outputs": [],
   "source": []
  }
 ],
 "metadata": {
  "kernelspec": {
   "display_name": "Python 3 (ipykernel)",
   "language": "python",
   "name": "python3"
  },
  "language_info": {
   "codemirror_mode": {
    "name": "ipython",
    "version": 3
   },
   "file_extension": ".py",
   "mimetype": "text/x-python",
   "name": "python",
   "nbconvert_exporter": "python",
   "pygments_lexer": "ipython3",
   "version": "3.9.7"
  }
 },
 "nbformat": 4,
 "nbformat_minor": 5
}
